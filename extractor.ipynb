{
 "cells": [
  {
   "cell_type": "code",
   "execution_count": 61,
   "metadata": {},
   "outputs": [],
   "source": [
    "import pandas as pd\n",
    "import requests\n",
    "\n",
    "COURSE_ID = \"223125\"\n",
    "API_KEY = \"ENTER YOUR API KEY HERE\""
   ]
  },
  {
   "cell_type": "code",
   "execution_count": 63,
   "metadata": {},
   "outputs": [],
   "source": [
    "class Extractor:\n",
    "    def __init__(self, course_id):\n",
    "        self.course_id = course_id\n",
    "\n",
    "    def getEverything(self):\n",
    "        URL = f\"https://q.utoronto.ca/api/v1/courses/{self.course_id}/quizzes\"\n",
    "        headers = {\n",
    "            \"Content-Type\": \"application/json; charset=utf-8\", \n",
    "            \"Authorization\": f\"Bearer {API_KEY}\"\n",
    "            }\n",
    "        r = requests.get(url = URL, headers=headers)\n",
    "        quiz_ids = []\n",
    "        allQuizzes = r.json()\n",
    "        for aQuiz in allQuizzes:\n",
    "            quiz_ids.append(aQuiz['id'])\n",
    "\n",
    "        # Get everything for every quiz.\n",
    "        quiz_id_list = []\n",
    "        user_id_list = []\n",
    "        attempt_list = []\n",
    "        first_viewed_time_list = []\n",
    "        last_viewed_time_list = []\n",
    "        score_list = []\n",
    "        kept_score_list = []\n",
    "\n",
    "        for quiz_id in quiz_ids:\n",
    "            URL = f\"https://q.utoronto.ca/api/v1/courses/{self.course_id}/quizzes/{quiz_id}/submissions\"\n",
    "            headers = {\n",
    "                \"Content-Type\": \"application/json; charset=utf-8\", \n",
    "                \"Authorization\": f\"Bearer {API_KEY}\"\n",
    "                }\n",
    "            r = requests.get(url = URL, headers=headers)\n",
    "            allSubmissions = r.json()['quiz_submissions']\n",
    "            for submission in allSubmissions:\n",
    "                submission_id = submission['id']\n",
    "                URL = f\"https://q.utoronto.ca/api/v1/courses/{self.course_id}/quizzes/{quiz_id}/submissions/{submission_id}\"\n",
    "                headers = {\n",
    "                    \"Content-Type\": \"application/json; charset=utf-8\", \n",
    "                    \"Authorization\": f\"Bearer {API_KEY}\"\n",
    "                    }\n",
    "                r = requests.get(url = URL, headers=headers)\n",
    "                data = r.json()\n",
    "\n",
    "                assert len(data['quiz_submissions']) == 1\n",
    "                attempt_numbers = data['quiz_submissions'][0]['attempt']           \n",
    "                for attempt in range(1, attempt_numbers + 1):\n",
    "                    URL = f\"https://q.utoronto.ca/api/v1/courses/{self.course_id}/quizzes/{quiz_id}/submissions/{submission_id}?attempt={str(attempt)}\"\n",
    "                    headers = {\n",
    "                        \"Content-Type\": \"application/json; charset=utf-8\", \n",
    "                        \"Authorization\": f\"Bearer {API_KEY}\"\n",
    "                        }\n",
    "                    r = requests.get(url = URL, headers=headers)\n",
    "                    data = r.json()['quiz_submissions'][0]\n",
    "                    quiz_id_list.append(quiz_id)\n",
    "                    user_id_list.append(data['user_id'])\n",
    "                    attempt_list.append(attempt)\n",
    "                    first_viewed_time_list.append(data['started_at'])\n",
    "                    last_viewed_time_list.append(data['finished_at'])\n",
    "                    score_list.append(data['score'])\n",
    "                    kept_score_list.append(data['kept_score'])\n",
    "\n",
    "        df = pd.DataFrame(\n",
    "            data = {\n",
    "                'quiz_id': quiz_id_list,\n",
    "                'user_id': user_id_list,\n",
    "                'attempt': attempt_list,\n",
    "                'started_at': first_viewed_time_list,\n",
    "                'finished_at': last_viewed_time_list,\n",
    "                'score': score_list,\n",
    "                'kept_score': kept_score_list\n",
    "            }\n",
    "        )\n",
    "\n",
    "        df.to_csv(f\"{COURSE_ID}_quiz_stats.csv\", index = False)\n",
    "\n",
    "\n",
    "    # def extractFirstLastViewedTimesAndScore(self, quiz_id, submission_id, attempt = 1):\n",
    "    #     # https://canvas.instructure.com/doc/api/quiz_submission_events.html\n",
    "    #     URL = f\"https://q.utoronto.ca/api/v1/courses/{self.course_id}/quizzes/{quiz_id}/submissions/{submission_id}/events/?attempt={attempt}\"\n",
    "    #     headers = {\n",
    "    #         \"Content-Type\": \"application/json; charset=utf-8\", \n",
    "    #         \"Authorization\": f\"Bearer {API_KEY}\"\n",
    "    #         }\n",
    "    #     r = requests.get(url = URL, headers=headers)\n",
    "    #     data = r.json()\n",
    "\n",
    "    #     quiz_submission_events = data['quiz_submission_events']\n",
    "    #     first_viewed_time = None\n",
    "    #     last_viewed_time = None\n",
    "    #     score = None\n",
    "    #     for quiz_submission_event in quiz_submission_events:\n",
    "    #         if quiz_submission_event['event_type'] == \"submission_created\":\n",
    "    #             first_viewed_time = quiz_submission_event['created_at']\n",
    "    #             break\n",
    "    #     sorted_events_by_created_at = sorted(quiz_submission_events, key=lambda d: parse(d['created_at']), reverse=True)\n",
    "\n",
    "    #     last_viewed_time = sorted_events_by_created_at[0]['created_at']\n",
    "    #     return (first_viewed_time, last_viewed_time, score)"
   ]
  },
  {
   "cell_type": "markdown",
   "metadata": {},
   "source": [
    "Example of how to use"
   ]
  },
  {
   "cell_type": "code",
   "execution_count": 64,
   "metadata": {},
   "outputs": [
    {
     "ename": "TypeError",
     "evalue": "string indices must be integers",
     "output_type": "error",
     "traceback": [
      "\u001b[0;31m---------------------------------------------------------------------------\u001b[0m",
      "\u001b[0;31mTypeError\u001b[0m                                 Traceback (most recent call last)",
      "\u001b[1;32m/home/chenpan/canvas-quiz-info-extractor/extractor.ipynb Cell 4'\u001b[0m in \u001b[0;36m<cell line: 2>\u001b[0;34m()\u001b[0m\n\u001b[1;32m      <a href='vscode-notebook-cell://wsl%2Bubuntu/home/chenpan/canvas-quiz-info-extractor/extractor.ipynb#ch0000003vscode-remote?line=0'>1</a>\u001b[0m extractor \u001b[39m=\u001b[39m Extractor(COURSE_ID)\n\u001b[0;32m----> <a href='vscode-notebook-cell://wsl%2Bubuntu/home/chenpan/canvas-quiz-info-extractor/extractor.ipynb#ch0000003vscode-remote?line=1'>2</a>\u001b[0m extractor\u001b[39m.\u001b[39;49mgetEverything()\n",
      "\u001b[1;32m/home/chenpan/canvas-quiz-info-extractor/extractor.ipynb Cell 2'\u001b[0m in \u001b[0;36mExtractor.getEverything\u001b[0;34m(self)\u001b[0m\n\u001b[1;32m     <a href='vscode-notebook-cell://wsl%2Bubuntu/home/chenpan/canvas-quiz-info-extractor/extractor.ipynb#ch0000002vscode-remote?line=12'>13</a>\u001b[0m allQuizzes \u001b[39m=\u001b[39m r\u001b[39m.\u001b[39mjson()\n\u001b[1;32m     <a href='vscode-notebook-cell://wsl%2Bubuntu/home/chenpan/canvas-quiz-info-extractor/extractor.ipynb#ch0000002vscode-remote?line=13'>14</a>\u001b[0m \u001b[39mfor\u001b[39;00m aQuiz \u001b[39min\u001b[39;00m allQuizzes:\n\u001b[0;32m---> <a href='vscode-notebook-cell://wsl%2Bubuntu/home/chenpan/canvas-quiz-info-extractor/extractor.ipynb#ch0000002vscode-remote?line=14'>15</a>\u001b[0m     quiz_ids\u001b[39m.\u001b[39mappend(aQuiz[\u001b[39m'\u001b[39;49m\u001b[39mid\u001b[39;49m\u001b[39m'\u001b[39;49m])\n\u001b[1;32m     <a href='vscode-notebook-cell://wsl%2Bubuntu/home/chenpan/canvas-quiz-info-extractor/extractor.ipynb#ch0000002vscode-remote?line=16'>17</a>\u001b[0m \u001b[39m# Get everything for every quiz.\u001b[39;00m\n\u001b[1;32m     <a href='vscode-notebook-cell://wsl%2Bubuntu/home/chenpan/canvas-quiz-info-extractor/extractor.ipynb#ch0000002vscode-remote?line=17'>18</a>\u001b[0m quiz_id_list \u001b[39m=\u001b[39m []\n",
      "\u001b[0;31mTypeError\u001b[0m: string indices must be integers"
     ]
    }
   ],
   "source": [
    "extractor = Extractor(COURSE_ID)\n",
    "extractor.getEverything()\n",
    "#extractor.extractFirstLastViewedTimesAndScore('195052', '10657535')"
   ]
  }
 ],
 "metadata": {
  "kernelspec": {
   "display_name": "Python 3.9.12 ('voice')",
   "language": "python",
   "name": "python3"
  },
  "language_info": {
   "codemirror_mode": {
    "name": "ipython",
    "version": 3
   },
   "file_extension": ".py",
   "mimetype": "text/x-python",
   "name": "python",
   "nbconvert_exporter": "python",
   "pygments_lexer": "ipython3",
   "version": "3.9.12"
  },
  "orig_nbformat": 4,
  "vscode": {
   "interpreter": {
    "hash": "fde51ec553fab19dac67d7051534ba85dfe72e7a0ae4add973c8043649dcf36e"
   }
  }
 },
 "nbformat": 4,
 "nbformat_minor": 2
}
